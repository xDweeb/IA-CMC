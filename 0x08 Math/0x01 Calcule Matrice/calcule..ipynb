{
 "cells": [
  {
   "cell_type": "code",
   "execution_count": 5,
   "metadata": {},
   "outputs": [
    {
     "data": {
      "text/plain": [
       "array([[5, 8],\n",
       "       [8, 9]])"
      ]
     },
     "execution_count": 5,
     "metadata": {},
     "output_type": "execute_result"
    }
   ],
   "source": [
    "#jam3 dyal matrice m3a matrice\n",
    "import numpy as np\n",
    "\n",
    "A = np.array([[4, 8], [3, 7]])\n",
    "B = np.array([[1, 0], [5, 2]])\n",
    "A+B"
   ]
  },
  {
   "cell_type": "code",
   "execution_count": 4,
   "metadata": {},
   "outputs": [
    {
     "data": {
      "text/plain": [
       "array([[-4, -4],\n",
       "       [-4, -4]])"
      ]
     },
     "execution_count": 4,
     "metadata": {},
     "output_type": "execute_result"
    }
   ],
   "source": [
    "#tar7 dyal matrice m3a matrice\n",
    "C = np.array([[1, 2], [3, 4]])\n",
    "D = np.array([[5, 6], [7, 8]])\n",
    "C-D"
   ]
  },
  {
   "cell_type": "code",
   "execution_count": 6,
   "metadata": {},
   "outputs": [
    {
     "data": {
      "text/plain": [
       "array([[2, 4],\n",
       "       [6, 8]])"
      ]
     },
     "execution_count": 6,
     "metadata": {},
     "output_type": "execute_result"
    }
   ],
   "source": [
    "#darb dyal matrice m3a raqem\n",
    "E = np.array([[1, 2], [3, 4]])\n",
    "E*2"
   ]
  },
  {
   "cell_type": "code",
   "execution_count": 7,
   "metadata": {},
   "outputs": [
    {
     "data": {
      "text/plain": [
       "array([[0.5, 1. ],\n",
       "       [1.5, 2. ]])"
      ]
     },
     "execution_count": 7,
     "metadata": {},
     "output_type": "execute_result"
    }
   ],
   "source": [
    "#9isma dyal matrice m3a raqem\n",
    "F = np.array([[1, 2], [3, 4]])\n",
    "F/2"
   ]
  },
  {
   "cell_type": "code",
   "execution_count": 8,
   "metadata": {},
   "outputs": [
    {
     "data": {
      "text/plain": [
       "array([ 5, 11, 25])"
      ]
     },
     "execution_count": 8,
     "metadata": {},
     "output_type": "execute_result"
    }
   ],
   "source": [
    "#derb dyal matrice x vector\n",
    "matrice = np.array([[1, 2], [3, 4], [7,9]])\n",
    "vecteur = np.array([1, 2])\n",
    "np.dot(matrice, vecteur)"
   ]
  },
  {
   "cell_type": "code",
   "execution_count": 10,
   "metadata": {},
   "outputs": [
    {
     "data": {
      "text/plain": [
       "(array([[1, 2],\n",
       "        [3, 4],\n",
       "        [7, 9]]),\n",
       " array([[1, 3, 7],\n",
       "        [2, 4, 9]]))"
      ]
     },
     "execution_count": 10,
     "metadata": {},
     "output_type": "execute_result"
    }
   ],
   "source": [
    "#bach nqelbo wahed matrice\n",
    "A = np.array([[1, 2], [3, 4], [7, 9]])\n",
    "T = np.transpose(A)\n",
    "A,T"
   ]
  },
  {
   "cell_type": "code",
   "execution_count": 11,
   "metadata": {},
   "outputs": [
    {
     "name": "stdout",
     "output_type": "stream",
     "text": [
      "(3, 2)\n",
      "(2, 3)\n"
     ]
    }
   ],
   "source": [
    "#bach n printiw colons w lignes dyal matrice\n",
    "print(format(A.shape))\n",
    "print(format(T.shape))"
   ]
  },
  {
   "cell_type": "code",
   "execution_count": 12,
   "metadata": {},
   "outputs": [
    {
     "data": {
      "text/plain": [
       "True"
      ]
     },
     "execution_count": 12,
     "metadata": {},
     "output_type": "execute_result"
    }
   ],
   "source": [
    "#bach ndiro inverse l matrice w net2ekdo anaha shiha\n",
    "from numpy.linalg import inv\n",
    "N = np.array([[1, 2], [3, 4]])\n",
    "I = inv(N)\n",
    "R = np.dot(N, I)\n",
    "np.allclose(R, np.eye(2))"
   ]
  },
  {
   "cell_type": "code",
   "execution_count": 13,
   "metadata": {},
   "outputs": [
    {
     "data": {
      "text/plain": [
       "array([[1., 0.],\n",
       "       [0., 1.]])"
      ]
     },
     "execution_count": 13,
     "metadata": {},
     "output_type": "execute_result"
    }
   ],
   "source": [
    "np.eye(2)"
   ]
  },
  {
   "cell_type": "code",
   "execution_count": 14,
   "metadata": {},
   "outputs": [
    {
     "name": "stdout",
     "output_type": "stream",
     "text": [
      "(2, 2)\n",
      "-2.0000000000000004\n"
     ]
    }
   ],
   "source": [
    "print(N.shape)\n",
    "print(np.linalg.det(N))"
   ]
  },
  {
   "cell_type": "code",
   "execution_count": 18,
   "metadata": {},
   "outputs": [
    {
     "name": "stdout",
     "output_type": "stream",
     "text": [
      "Impossible de charger l'image.\n"
     ]
    }
   ],
   "source": [
    "import cv2\n",
    "\n",
    "# Chemin de l'image\n",
    "image_path = 'C:\\\\Users\\\\xdweb\\\\OneDrive\\\\Documents\\\\IA-CMC\\\\@xDweb\\\\0x01 My Designe\\\\your_image.jpg'\n",
    "\n",
    "\n",
    "# Lire l'image\n",
    "image = cv2.imread(image_path)\n",
    "\n",
    "# Vérifier si l'image a été correctement lue\n",
    "if image is not None:\n",
    "    print(\"L'image a été chargée avec succès.\")\n",
    "    # Afficher l'image\n",
    "    cv2.imshow(\"Image\", image)\n",
    "    cv2.waitKey(0)\n",
    "    cv2.destroyAllWindows()\n",
    "else:\n",
    "    print(\"Impossible de charger l'image.\")\n"
   ]
  },
  {
   "cell_type": "code",
   "execution_count": null,
   "metadata": {},
   "outputs": [],
   "source": []
  }
 ],
 "metadata": {
  "kernelspec": {
   "display_name": "Python 3",
   "language": "python",
   "name": "python3"
  },
  "language_info": {
   "codemirror_mode": {
    "name": "ipython",
    "version": 3
   },
   "file_extension": ".py",
   "mimetype": "text/x-python",
   "name": "python",
   "nbconvert_exporter": "python",
   "pygments_lexer": "ipython3",
   "version": "3.12.3"
  }
 },
 "nbformat": 4,
 "nbformat_minor": 2
}
