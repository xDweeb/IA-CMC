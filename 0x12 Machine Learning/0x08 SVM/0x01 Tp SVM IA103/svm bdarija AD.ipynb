{
 "cells": [
  {
   "cell_type": "code",
   "execution_count": null,
   "id": "76219c2d",
   "metadata": {},
   "outputs": [],
   "source": [
    "# كنستعملو مكتبة numpy باش نخدمو على المصفوفات والحسابات العددية\n",
    "import numpy as np\n",
    "\n",
    "# كنستعملو هاد مكتبة دزبي لي طلعات ليا فكري pandas باش نخدمو على الداتا (بيانات) على شكل جداول\n",
    "import pandas as pd\n",
    "\n",
    "# كنستعملو مكتبة ولكن مغنحتاجوهاش فالريجيونال دزب حيت معندناش هاد لقلاوي اصلا مقرينا حتى قلوة حنا matplotlib.pyplot   باش نرسمو الرسوم البيانية\n",
    "import matplotlib.pyplot as plt\n",
    "\n",
    "# كنستعملو الدالة train_test_split من مكتبة sklearn باش نقسمو البيانات دالقلاوي لتدريب واختبار\n",
    "from sklearn.model_selection import train_test_split\n",
    "\n",
    "# كنستعملو مكتبة SVC من sklearn باش نبنيو نموذج الآلة الداعمة للمتجهات (Support Vector Machine)\n",
    "from sklearn.svm import SVC\n",
    "\n",
    "# كنستعملو الدالة confusion_matrix من مكتبة sklearn (متولنيش شنو هو الالتباس حيت بكري معارفش شكيعني) باش نحسبو مصفوفة الالتباس\n",
    "from sklearn.metrics import confusion_matrix\n"
   ]
  },
  {
   "cell_type": "code",
   "execution_count": null,
   "id": "852b8d56",
   "metadata": {},
   "outputs": [],
   "source": [
    "#  كنقراو البيانات من ملف وهادي لمكنتيش عارفها لاش كتصلاح غي عاود لكرك (سير دير الفلاحة) CSV باستعمال pandas\n",
    "data = pd.read_csv('bill_authentication.csv')\n",
    "\n",
    "# كنقسمو البيانات X لي هي جميع الأعمدة ما عدا الأخير\n",
    "X = data.iloc[:, :-1]\n",
    "\n",
    "# و y لي هي العمود الأخير فقط\n",
    "y = data.iloc[:, -1]\n",
    "\n",
    "# هادي باينة بلاما نشرحها "
   ]
  },
  {
   "cell_type": "code",
   "execution_count": null,
   "id": "d5cc3ecd",
   "metadata": {},
   "outputs": [],
   "source": [
    "# كنقسمو البيانات ديالنا X و y لجزء ديال التدريب وجزء ديال الاختبار باستعمال train_test_split\n",
    "X_train, X_test, y_train, y_test = train_test_split(X, y, test_size=0.2)"
   ]
  },
  {
   "cell_type": "code",
   "execution_count": null,
   "id": "45f8a579",
   "metadata": {},
   "outputs": [],
   "source": [
    "# (نقل طبونمها هكاك متبقاش تسول بزاف)إنشاء النموذج ديال SVM\n",
    "Classifier = SVC(kernel='linear', random_state=0)\n",
    "\n",
    "#  تدريب النموذج باستعمال بيانات التدريب ستعملنا فيت باش نترينيو بيه\n",
    "Classifier.fit(X_train, y_train)"
   ]
  },
  {
   "cell_type": "code",
   "execution_count": null,
   "id": "6ac1f479",
   "metadata": {},
   "outputs": [],
   "source": [
    "# التنبؤ بالقيم ديال y باستعمال النموذج المدرب على بيانات الاختبار\n",
    "y_pred = Classifier.predict(X_test)"
   ]
  },
  {
   "cell_type": "code",
   "execution_count": null,
   "id": "050675a3",
   "metadata": {},
   "outputs": [],
   "source": [
    "# استيراد الدالة confusion_matrix من مكتبة sklearn\n",
    "from sklearn.metrics import confusion_matrix\n",
    "\n",
    "# حساب مصفوفة الالتباس باستعمال القيم الحقيقية y_test والتوقعات y_pred\n",
    "cm = confusion_matrix(y_test, y_pred)"
   ]
  },
  {
   "cell_type": "code",
   "execution_count": null,
   "id": "c50e255c",
   "metadata": {},
   "outputs": [],
   "source": [
    "# استيراد الدالة classification_report من مكتبة sklearn\n",
    "from sklearn.metrics import classification_report\n",
    "\n",
    "# طباعة تقرير التصنيف باستعمال القيم الحقيقية y_test والتوقعات y_pred\n",
    "print(classification_report(y_test, y_pred))"
   ]
  }
 ],
 "metadata": {
  "kernelspec": {
   "display_name": "Python 3 (ipykernel)",
   "language": "python",
   "name": "python3"
  },
  "language_info": {
   "codemirror_mode": {
    "name": "ipython",
    "version": 3
   },
   "file_extension": ".py",
   "mimetype": "text/x-python",
   "name": "python",
   "nbconvert_exporter": "python",
   "pygments_lexer": "ipython3",
   "version": "3.11.5"
  }
 },
 "nbformat": 4,
 "nbformat_minor": 5
}
